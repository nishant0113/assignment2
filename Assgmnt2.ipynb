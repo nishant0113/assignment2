{
 "cells": [
  {
   "cell_type": "markdown",
   "id": "695a1a3b-e350-417a-816a-99659198a71c",
   "metadata": {},
   "source": [
    "String_capitalize()"
   ]
  },
  {
   "cell_type": "code",
   "execution_count": 2,
   "id": "3eddaa17-5188-45d7-bfac-2320a4c9497d",
   "metadata": {},
   "outputs": [
    {
     "name": "stdout",
     "output_type": "stream",
     "text": [
      "Python\n"
     ]
    }
   ],
   "source": [
    "my_string = \"python\"\n",
    "my_string = my_string.capitalize()\n",
    "print(my_string)"
   ]
  },
  {
   "cell_type": "markdown",
   "id": "4b76a5a2-92b3-4395-98e5-565b5d612ee8",
   "metadata": {},
   "source": [
    "string.lower()"
   ]
  },
  {
   "cell_type": "code",
   "execution_count": 3,
   "id": "98b02218-d446-4441-ad80-d1d9e6eb293b",
   "metadata": {},
   "outputs": [
    {
     "name": "stdout",
     "output_type": "stream",
     "text": [
      "python\n"
     ]
    }
   ],
   "source": [
    "my_string = \"python\"\n",
    "my_string = my_string.lower()\n",
    "print(my_string)"
   ]
  },
  {
   "cell_type": "markdown",
   "id": "d1fbed8a-5f69-4a78-8bd3-53cc528ba037",
   "metadata": {},
   "source": [
    "String_upper()"
   ]
  },
  {
   "cell_type": "code",
   "execution_count": 4,
   "id": "791bacab-44f8-4f72-9782-12f95e5006d7",
   "metadata": {},
   "outputs": [
    {
     "name": "stdout",
     "output_type": "stream",
     "text": [
      "PYTHON\n"
     ]
    }
   ],
   "source": [
    "my_string = \"python\"\n",
    "my_string = my_string.upper()\n",
    "print(my_string)"
   ]
  },
  {
   "cell_type": "markdown",
   "id": "6e297ad1-e8fd-4a60-a823-9f539015842a",
   "metadata": {},
   "source": [
    "String_isupper()"
   ]
  },
  {
   "cell_type": "code",
   "execution_count": 5,
   "id": "2294f364-5afa-432a-8486-b21ad54b0efa",
   "metadata": {},
   "outputs": [
    {
     "name": "stdout",
     "output_type": "stream",
     "text": [
      "False\n"
     ]
    }
   ],
   "source": [
    "my_string = \"python\"\n",
    "my_string = my_string.isupper()\n",
    "print(my_string)"
   ]
  },
  {
   "cell_type": "markdown",
   "id": "d7e1f521-9f90-4aeb-a6d5-c0cfe492bc48",
   "metadata": {},
   "source": [
    "String_count()"
   ]
  },
  {
   "cell_type": "code",
   "execution_count": 37,
   "id": "e1f9fad5-2db0-438e-a99d-acbe12678209",
   "metadata": {},
   "outputs": [
    {
     "name": "stdout",
     "output_type": "stream",
     "text": [
      "2\n"
     ]
    }
   ],
   "source": [
    "my_string = \"nishant raghuvanshi\"\n",
    "my_string = my_string.count(\"i\")\n",
    "print(my_string)"
   ]
  },
  {
   "cell_type": "markdown",
   "id": "87e5155c-b4ba-4ca0-9b0c-a0560dfe797c",
   "metadata": {},
   "source": [
    "String_center()"
   ]
  },
  {
   "cell_type": "code",
   "execution_count": 10,
   "id": "1e13e3b8-9be9-4c5d-b7ec-a08755a657b2",
   "metadata": {},
   "outputs": [
    {
     "name": "stdout",
     "output_type": "stream",
     "text": [
      "                      python                      \n"
     ]
    }
   ],
   "source": [
    "my_string = \"python\"\n",
    "my_string = my_string.center(50)\n",
    "print(my_string)"
   ]
  },
  {
   "cell_type": "markdown",
   "id": "b4dbdcf6-73d9-4af9-ab80-777dd906557e",
   "metadata": {},
   "source": [
    "String_index()"
   ]
  },
  {
   "cell_type": "code",
   "execution_count": 14,
   "id": "d3be0e7c-e9c6-4fbf-a0a6-aaa8e47f4053",
   "metadata": {},
   "outputs": [
    {
     "name": "stdout",
     "output_type": "stream",
     "text": [
      "0\n"
     ]
    }
   ],
   "source": [
    "my_string = \"python\"\n",
    "my_string = my_string.index(\"p\")\n",
    "print(my_string)"
   ]
  },
  {
   "cell_type": "markdown",
   "id": "7aa1e521-1fc6-4d37-ab42-e0ae4b90060a",
   "metadata": {},
   "source": [
    "String_endswith()"
   ]
  },
  {
   "cell_type": "code",
   "execution_count": 16,
   "id": "e575c2b7-ddc0-41ec-96e6-46723737bbd9",
   "metadata": {},
   "outputs": [
    {
     "name": "stdout",
     "output_type": "stream",
     "text": [
      "True\n"
     ]
    }
   ],
   "source": [
    "my_string = \"python\"\n",
    "my_string = my_string.endswith(\"n\")\n",
    "print(my_string)"
   ]
  },
  {
   "cell_type": "markdown",
   "id": "921f8be9-c833-4b48-b826-cee6e1390e0c",
   "metadata": {},
   "source": [
    "String_Startwith()"
   ]
  },
  {
   "cell_type": "code",
   "execution_count": 19,
   "id": "a0ef1dc4-a13b-44e6-9cd9-b87e13874a9e",
   "metadata": {},
   "outputs": [
    {
     "name": "stdout",
     "output_type": "stream",
     "text": [
      "True\n"
     ]
    }
   ],
   "source": [
    "my_string = \"python\"\n",
    "my_string = my_string.startswith(\"p\")\n",
    "print(my_string)"
   ]
  },
  {
   "cell_type": "markdown",
   "id": "a4a1778f-e62a-4c13-9758-36589b557276",
   "metadata": {},
   "source": [
    "String_count(substring,start,end)"
   ]
  },
  {
   "cell_type": "code",
   "execution_count": 24,
   "id": "504b5603-51f2-478b-aa5a-56774e8226b2",
   "metadata": {},
   "outputs": [
    {
     "name": "stdout",
     "output_type": "stream",
     "text": [
      "3\n",
      "0\n"
     ]
    }
   ],
   "source": [
    "my_string = \"this is python coding\"\n",
    "print(my_string.count(\"i\"))\n",
    "print(my_string.count(\"python\",11,len(my_string)))"
   ]
  },
  {
   "cell_type": "markdown",
   "id": "26532ec8-1a22-4cad-82fe-54864b79bfad",
   "metadata": {},
   "source": [
    "find(sub[,start[,end]])"
   ]
  },
  {
   "cell_type": "code",
   "execution_count": 22,
   "id": "a3dcd0e2-9bab-48b5-b630-f1a340899494",
   "metadata": {},
   "outputs": [
    {
     "name": "stdout",
     "output_type": "stream",
     "text": [
      "9\n",
      "14\n"
     ]
    }
   ],
   "source": [
    "my_string = \"My name is Nishant raghuvanshi\"\n",
    "print(my_string.find(\"s\"))\n",
    "print(my_string.find(\"h\"))"
   ]
  },
  {
   "cell_type": "markdown",
   "id": "401bab6d-d246-478d-b193-a0578980876a",
   "metadata": {},
   "source": [
    "String_isalpha()"
   ]
  },
  {
   "cell_type": "code",
   "execution_count": 28,
   "id": "6b729218-386d-4b5b-815b-3c69a5512cc6",
   "metadata": {},
   "outputs": [
    {
     "name": "stdout",
     "output_type": "stream",
     "text": [
      "True\n"
     ]
    }
   ],
   "source": [
    "my_string = \"pythoniscomputerbasedcoding\"\n",
    "my_string = my_string.isalpha()\n",
    "print(my_string)"
   ]
  },
  {
   "cell_type": "markdown",
   "id": "e554ba02-31ea-49bf-9a91-47ba69f43117",
   "metadata": {},
   "source": [
    "String_isspace"
   ]
  },
  {
   "cell_type": "code",
   "execution_count": 32,
   "id": "998c2ecd-48ee-476b-9b3a-231642385cae",
   "metadata": {},
   "outputs": [
    {
     "name": "stdout",
     "output_type": "stream",
     "text": [
      "False\n"
     ]
    }
   ],
   "source": [
    "my_string = \"pyhton_computer\"\n",
    "my_string =my_string.isspace()\n",
    "print(my_string)"
   ]
  },
  {
   "cell_type": "markdown",
   "id": "8562a139-0b4e-409f-adeb-d920707cff7f",
   "metadata": {},
   "source": [
    "string_isalnum()"
   ]
  },
  {
   "cell_type": "code",
   "execution_count": 12,
   "id": "2504d5eb-be58-47d2-917b-798beb812213",
   "metadata": {},
   "outputs": [
    {
     "name": "stdout",
     "output_type": "stream",
     "text": [
      "True\n",
      "True\n",
      "True\n",
      "False\n"
     ]
    }
   ],
   "source": [
    "my_string1 = \"Nishant0113\"\n",
    "my_string2 = \"12345\"\n",
    "my_string3 = \"Nishant\"\n",
    "my_string4 = \"nishant raghuvanshi\"\n",
    "\n",
    "print(my_string1.isalnum())\n",
    "print(my_string2.isalnum())  \n",
    "print(my_string3.isalnum())  \n",
    "print(my_string4.isalnum())  "
   ]
  },
  {
   "cell_type": "markdown",
   "id": "8ef9bb9e-8ad8-4ad6-807a-ce0ff7cf67ac",
   "metadata": {},
   "source": [
    "string_casefold()"
   ]
  },
  {
   "cell_type": "code",
   "execution_count": 9,
   "id": "2061bf2e-e22c-4ffb-b0ad-ff6fb0cda92f",
   "metadata": {},
   "outputs": [],
   "source": [
    "firstString = \"sir Claß\"\n",
    "secondString = \"sir class\""
   ]
  },
  {
   "cell_type": "code",
   "execution_count": 10,
   "id": "987d74fe-4b2c-4bbf-b4c2-433106d80ede",
   "metadata": {},
   "outputs": [
    {
     "data": {
      "text/plain": [
       "'sir class'"
      ]
     },
     "execution_count": 10,
     "metadata": {},
     "output_type": "execute_result"
    }
   ],
   "source": [
    "firstString.casefold()"
   ]
  },
  {
   "cell_type": "code",
   "execution_count": 11,
   "id": "a4cc46ee-0c25-4fe6-94a1-f71f87fa33c2",
   "metadata": {},
   "outputs": [
    {
     "data": {
      "text/plain": [
       "'sir claß'"
      ]
     },
     "execution_count": 11,
     "metadata": {},
     "output_type": "execute_result"
    }
   ],
   "source": [
    "firstString.lower()"
   ]
  },
  {
   "cell_type": "markdown",
   "id": "a83463c6-0d51-4764-b5bb-b6c7e0021735",
   "metadata": {},
   "source": [
    "string_format"
   ]
  },
  {
   "cell_type": "code",
   "execution_count": 17,
   "id": "f0e21247-7eb0-4b07-81c7-b238d369e42a",
   "metadata": {},
   "outputs": [
    {
     "data": {
      "text/plain": [
       "'Hello,world'"
      ]
     },
     "execution_count": 17,
     "metadata": {},
     "output_type": "execute_result"
    }
   ],
   "source": [
    "\"Hello,{}\".format(\"world\")"
   ]
  },
  {
   "cell_type": "code",
   "execution_count": 18,
   "id": "cfb0c58f-c66c-4275-8866-8020f30273cf",
   "metadata": {},
   "outputs": [
    {
     "data": {
      "text/plain": [
       "'Name: Alice, Age: 30'"
      ]
     },
     "execution_count": 18,
     "metadata": {},
     "output_type": "execute_result"
    }
   ],
   "source": [
    "\"Name: {name}, Age: {age}\".format(name=\"Alice\", age=30)"
   ]
  },
  {
   "cell_type": "markdown",
   "id": "6c809341-4666-4576-bc5e-9c9dc3ec8936",
   "metadata": {},
   "source": [
    "string_swapcase()"
   ]
  },
  {
   "cell_type": "code",
   "execution_count": 19,
   "id": "fb93dee0-e9cf-4c20-a13b-46ae2ad7e0a2",
   "metadata": {},
   "outputs": [
    {
     "name": "stdout",
     "output_type": "stream",
     "text": [
      "hELLO wORLD\n"
     ]
    }
   ],
   "source": [
    "my_string = \"Hello World\"\n",
    "swapped_string = my_string.swapcase()\n",
    "print(swapped_string)"
   ]
  },
  {
   "cell_type": "markdown",
   "id": "d5680e28-c599-46f7-ba6d-ee8a595e8c99",
   "metadata": {},
   "source": [
    "string_isdecimal()"
   ]
  },
  {
   "cell_type": "code",
   "execution_count": 20,
   "id": "19deb583-f770-465a-9fa3-71807f9ebe15",
   "metadata": {},
   "outputs": [
    {
     "name": "stdout",
     "output_type": "stream",
     "text": [
      "True\n",
      "False\n",
      "False\n"
     ]
    }
   ],
   "source": [
    "my_string1 = \"12345\"\n",
    "my_string2 = \"12.345\"\n",
    "my_string3 = \"hello\"\n",
    "\n",
    "print(my_string1.isdecimal())\n",
    "print(my_string2.isdecimal())\n",
    "print(my_string3.isdecimal()) "
   ]
  },
  {
   "cell_type": "markdown",
   "id": "4b645646-e0f1-4f3c-ad00-a74d0000bba8",
   "metadata": {},
   "source": [
    "String_isdigit()"
   ]
  },
  {
   "cell_type": "code",
   "execution_count": 21,
   "id": "6b22c350-91e5-40cd-bb42-31b3d64f1e0d",
   "metadata": {},
   "outputs": [
    {
     "name": "stdout",
     "output_type": "stream",
     "text": [
      "True\n",
      "False\n",
      "False\n"
     ]
    }
   ],
   "source": [
    "my_string1 = \"12345\"\n",
    "my_string2 = \"12.345\"\n",
    "my_string3 = \"Python\"\n",
    "\n",
    "print(my_string1.isdigit())\n",
    "print(my_string2.isdigit())  \n",
    "print(my_string3.isdigit())"
   ]
  },
  {
   "cell_type": "markdown",
   "id": "555a0b1f-8b36-43df-98af-99ac256cced3",
   "metadata": {},
   "source": [
    "String_zfill()"
   ]
  },
  {
   "cell_type": "code",
   "execution_count": 23,
   "id": "9aa46e70-232c-4765-8fb6-3c6a5e132780",
   "metadata": {},
   "outputs": [
    {
     "name": "stdout",
     "output_type": "stream",
     "text": [
      "042\n",
      "0042\n"
     ]
    }
   ],
   "source": [
    "my_string = \"42\"\n",
    "padded_string1 = my_string.zfill(3)\n",
    "padded_string2 = my_string.zfill(4)\n",
    "\n",
    "print(padded_string1)  \n",
    "print(padded_string2) "
   ]
  },
  {
   "cell_type": "markdown",
   "id": "ff92efa5-e98a-462b-bf43-7958b2397b7a",
   "metadata": {},
   "source": [
    "String_strip()"
   ]
  },
  {
   "cell_type": "code",
   "execution_count": 27,
   "id": "0ca2cafe-d4f0-45e4-b5bb-ea2d35770b84",
   "metadata": {},
   "outputs": [
    {
     "name": "stdout",
     "output_type": "stream",
     "text": [
      "Hello, World!\n"
     ]
    }
   ],
   "source": [
    "my_string = \"  Hello, World!  \"\n",
    "stripped_string = my_string.strip()\n",
    "print(stripped_string)"
   ]
  },
  {
   "cell_type": "markdown",
   "id": "98d35a19-f491-42cb-8090-8e3b8a580d9a",
   "metadata": {},
   "source": [
    "String_split()"
   ]
  },
  {
   "cell_type": "code",
   "execution_count": 1,
   "id": "91120647-7bae-43dd-b818-fed531aba4aa",
   "metadata": {},
   "outputs": [
    {
     "data": {
      "text/plain": [
       "['Nishant', 'raghuvanshi@gmail.@com']"
      ]
     },
     "execution_count": 1,
     "metadata": {},
     "output_type": "execute_result"
    }
   ],
   "source": [
    "string = \"Nishant raghuvanshi@gmail.@com\"\n",
    "string.split(\" \")"
   ]
  },
  {
   "cell_type": "markdown",
   "id": "2cb3eee0-be38-405a-a824-e114a7000379",
   "metadata": {},
   "source": [
    "Join()Method"
   ]
  },
  {
   "cell_type": "code",
   "execution_count": 29,
   "id": "95f17ac7-e31c-4049-bf3c-0ca723669dee",
   "metadata": {},
   "outputs": [
    {
     "data": {
      "text/plain": [
       "'rohitlastname@gmail.com'"
      ]
     },
     "execution_count": 29,
     "metadata": {},
     "output_type": "execute_result"
    }
   ],
   "source": [
    "list1 = [\"rohit\",\"lastname\",\"@\",\"gmail\",\".com\"]\n",
    "\n",
    "\"\".join(list1)"
   ]
  },
  {
   "cell_type": "code",
   "execution_count": 32,
   "id": "5ab8f244-92a8-45e0-84ad-47a9959dc9a9",
   "metadata": {},
   "outputs": [
    {
     "data": {
      "text/plain": [
       "'Thas as a cat'"
      ]
     },
     "execution_count": 32,
     "metadata": {},
     "output_type": "execute_result"
    }
   ],
   "source": [
    "table = str.maketrans(\"is\",\"as\")\n",
    "\"This is a cat\".translate(table)"
   ]
  },
  {
   "cell_type": "markdown",
   "id": "c093eb84-1c6f-4427-b607-acbfd2ee59b0",
   "metadata": {},
   "source": [
    "String_encoding"
   ]
  },
  {
   "cell_type": "code",
   "execution_count": 33,
   "id": "5567b7cd-42ed-4b5e-8169-afc9a60c1676",
   "metadata": {},
   "outputs": [
    {
     "name": "stdout",
     "output_type": "stream",
     "text": [
      "b'Caf+AOk-'\n"
     ]
    }
   ],
   "source": [
    "text = \"Café\"\n",
    "\n",
    "encoded = text.encode(\"utf-7\")\n",
    "print(encoded)"
   ]
  },
  {
   "cell_type": "markdown",
   "id": "bfa3b689-a138-4006-94d5-44c82baa8503",
   "metadata": {},
   "source": [
    "Enumerate()funtion"
   ]
  },
  {
   "cell_type": "code",
   "execution_count": 5,
   "id": "bd47fe93-1e46-44f2-ac6b-1f4765e852c4",
   "metadata": {},
   "outputs": [
    {
     "name": "stdout",
     "output_type": "stream",
     "text": [
      "4\n",
      "14\n"
     ]
    }
   ],
   "source": [
    "my_string = \"hi Hero how are you\"\n",
    "\n",
    "for index,char in enumerate(my_string):\n",
    "    if  char == \"e\":\n",
    "        print(index)"
   ]
  },
  {
   "cell_type": "code",
   "execution_count": 4,
   "id": "4a542d00-4198-4ae4-a452-a83235e995f8",
   "metadata": {},
   "outputs": [],
   "source": [
    "my_string = \"hello Meenal how are you\"\n",
    "\n",
    "index = my_string.find(\"e\")\n",
    "\n",
    "while index != -1:\n",
    "    indices.append(index)\n",
    "    index = my_string.find(\"e\", index + 1)\n",
    "\n"
   ]
  },
  {
   "cell_type": "code",
   "execution_count": null,
   "id": "743a166a-0949-41f7-a15b-12188e756b04",
   "metadata": {},
   "outputs": [],
   "source": []
  }
 ],
 "metadata": {
  "kernelspec": {
   "display_name": "Python [conda env:base] *",
   "language": "python",
   "name": "conda-base-py"
  },
  "language_info": {
   "codemirror_mode": {
    "name": "ipython",
    "version": 3
   },
   "file_extension": ".py",
   "mimetype": "text/x-python",
   "name": "python",
   "nbconvert_exporter": "python",
   "pygments_lexer": "ipython3",
   "version": "3.13.5"
  }
 },
 "nbformat": 4,
 "nbformat_minor": 5
}
